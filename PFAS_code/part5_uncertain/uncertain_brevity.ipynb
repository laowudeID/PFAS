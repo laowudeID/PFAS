{
 "cells": [
  {
   "cell_type": "markdown",
   "metadata": {},
   "source": [
    "Run ten times to get the uncertainty of the model\n",
    "\n",
    "运行十次，以获取模型的不确定"
   ]
  },
  {
   "cell_type": "code",
   "execution_count": 1,
   "metadata": {},
   "outputs": [],
   "source": [
    "import sys\n",
    "sys.path.append('..')\n",
    "import pandas as pd\n",
    "import myuncertain as mu\n",
    "import os\n",
    "\n",
    "path_data_raw = \"C:/Users/dell/OneDrive/file/\"\n",
    "path_country_nc = \"C:/Users/dell/OneDrive/file/nc\"\n",
    "path_onedrive_csv = \"C:/Users/dell/OneDrive/file/csv/\"\n",
    "path_one_spdb = 'C:/Users/dell/OneDrive/file/SPDB/'\n",
    "drive_letter = 'E:'\n",
    "\n",
    "path_pre = drive_letter + \"/wyy/code_project/running_outcome/final_data/SPDB/part0_treat/pretreatment/\"\n",
    "path_match = drive_letter + \"/wyy/code_project/running_outcome/final_data/SPDB/part0_treat/match/\"\n",
    "path_semdata = drive_letter + \"/wyy/code_project/running_outcome/final_data/SPDB/part0_treat/semdata/\"\n",
    "\n",
    "path_2_preanalysis_data = drive_letter + \"/wyy/code_project/running_outcome/final_data/SPDB/part2_sem/preanalysis/\"\n",
    "path_2_preanalysis_fig = drive_letter + \"/wyy/code_project/running_outcome/final_fig/SPDB/part2_sem/preanalysis/\"\n",
    "path_3_lr_forecast = drive_letter + \"/wyy/code_project/running_outcome/final_data/SPDB/part3_forecast/lr_forecast/\"\n",
    "path_temp = drive_letter + \"/wyy/code_project/running_outcome/final_data/SPDB/temp/\"\n",
    "\n",
    "path_5_lr = drive_letter + \"/wyy/code_project/running_outcome/final_data/SPDB/part5_uncertain/lr/\"\n",
    "path_5_lr = drive_letter + \"/wyy/code_project/running_outcome/final_data/SPDB/part5_uncertain/lr/\"\n",
    "\n",
    "\n",
    "list_pfas =['PFOA', 'PFNA', 'PFDA', 'PFUnDA','PFDoDA','PFTrDA', 'PFTeDA', 'PFHxS', 'PFOS', 'FOSA', 'PFBA', 'PFPeA', 'PFHxA', 'PFHpA','PFBS']\n",
    "\n",
    "mark_num = \"25\"\n",
    "meta_name = \"meta_data.csv\"\n",
    "\n",
    "\n",
    "list_color = [\"#ee877c\", \"#8bd0e3\", \"#6abeae\", \"#808eaf\", \"#f7bba8\", \"#acb4cc\", \"#b5e0d5\", \"#e86462\", \"#a89687\"]"
   ]
  },
  {
   "cell_type": "markdown",
   "metadata": {},
   "source": [
    "### water"
   ]
  },
  {
   "cell_type": "code",
   "execution_count": null,
   "metadata": {},
   "outputs": [],
   "source": [
    "\n",
    "scoring = 'r2'\n",
    "str_describe = 'sws7'\n",
    "\n",
    "path_sw_rfecv_data = drive_letter + '/wyy/code_project/running_outcome/final_data/SPDB/part3_forecast/sw_forecast/'\n",
    "\n",
    "df_sw_sem = pd.read_csv(path_semdata + 'sem_sw_s7_au_to_' + mark_num +'_avg.csv')\n",
    "df_sw_sem['year'] = (df_sw_sem['year'] - 2000) / (2020 - 2000)\n",
    "\n",
    "df_sw_raw = pd.read_csv(path_match + 'sw_s7_avg.csv')\n",
    "\n",
    "best_params = pd.read_csv(path_sw_rfecv_data + 'ml_cv_best.csv')\n",
    "best_params = best_params.sort_values(by='mean_test_score', ascending=False)\n",
    "\n",
    "selected_features_rf = pd.read_csv(path_sw_rfecv_data + str_describe + \"_rfecv_features_RFcv.csv\")\n",
    "selected_features_rf = selected_features_rf[selected_features_rf[\"Rank\"] == 1][\"Feature\"].values\n",
    "\n",
    "selected_features_gbdt = pd.read_csv(path_sw_rfecv_data + str_describe + \"_rfecv_features_GBDTcv.csv\")\n",
    "selected_features_gbdt = selected_features_gbdt[selected_features_gbdt[\"Rank\"] == 1][\"Feature\"].values\n",
    "\n",
    "path_sw_input = drive_letter + '/wyy/code_project/running_outcome/final_data/SPDB/part3_forecast/sw_forecast/forecast_input/'\n",
    "path_sw_output_rf = drive_letter + '/wyy/code_project/running_outcome/final_data/SPDB/part3_forecast/sw_forecast/s7_rf_output/all_raw/'\n",
    "path_sw_output_gbdt = drive_letter + '/wyy/code_project/running_outcome/final_data/SPDB/part3_forecast/sw_forecast/s7_gbdt_output/all_raw/'\n",
    "mu.start_sw_forecast_uncertain(df_sw_sem, df_sw_raw, best_params, selected_features_rf, path_sw_input, path_sw_output_rf, 'RF')\n",
    "mu.start_sw_forecast_uncertain(df_sw_sem, df_sw_raw, best_params, selected_features_gbdt, path_sw_input, path_sw_output_gbdt, 'GBDT')"
   ]
  },
  {
   "cell_type": "code",
   "execution_count": null,
   "metadata": {},
   "outputs": [],
   "source": [
    "\n",
    "base_input_path = r'E:\\wyy\\code_project\\running_outcome\\final_data\\SPDB\\part3_forecast\\sw_forecast\\s7_rf_output\\all_raw'\n",
    "base_output_path = r'E:\\wyy\\code_project\\running_outcome\\final_data\\SPDB\\part3_forecast\\sw_forecast\\s7_rf_output\\merge_pfas'\n",
    "\n",
    "folder_names = [name for name in os.listdir(base_input_path) if os.path.isdir(os.path.join(base_input_path, name))]\n",
    "\n",
    "for folder in folder_names:\n",
    "    sw_path_input = os.path.join(base_input_path, folder)\n",
    "    sw_path_output = os.path.join(base_output_path, folder)\n",
    "\n",
    "    if not os.path.exists(sw_path_output):\n",
    "        os.makedirs(sw_path_output)\n",
    "\n",
    "    mu.merge_year(sw_path_input, sw_path_output, 'sw', 'value')\n",
    "\n",
    "\n",
    "base_input_path2 = r'E:\\wyy\\code_project\\running_outcome\\final_data\\SPDB\\part3_forecast\\sw_forecast\\s7_gbdt_output\\all_raw'\n",
    "base_output_path2 = r'E:\\wyy\\code_project\\running_outcome\\final_data\\SPDB\\part3_forecast\\sw_forecast\\s7_gbdt_output\\merge_pfas'\n",
    "\n",
    "folder_names2 = [name for name in os.listdir(base_input_path2) if os.path.isdir(os.path.join(base_input_path2, name))]\n",
    "\n",
    "for folder in folder_names2:\n",
    "    sw_path_input2 = os.path.join(base_input_path2, folder)\n",
    "    sw_path_output2 = os.path.join(base_output_path2, folder)\n",
    "\n",
    "    if not os.path.exists(sw_path_output2):\n",
    "        os.makedirs(sw_path_output2)\n",
    "\n",
    "    mu.merge_year(sw_path_input2, sw_path_output2, 'sw', 'value')"
   ]
  },
  {
   "cell_type": "code",
   "execution_count": null,
   "metadata": {},
   "outputs": [],
   "source": [
    "\n",
    "base_path = r'E:\\wyy\\code_project\\running_outcome\\final_data\\SPDB\\part3_forecast\\sw_forecast\\s7_rf_output\\merge_pfas'\n",
    "output_path = r'E:\\wyy\\code_project\\running_outcome\\final_data\\SPDB\\part3_forecast\\sw_forecast\\s7_rf_output\\only_seed'\n",
    "mu.merge_csv_files(base_path, output_path, 'sw')\n",
    "\n",
    "\n"
   ]
  },
  {
   "cell_type": "code",
   "execution_count": null,
   "metadata": {},
   "outputs": [],
   "source": [
    "columns = ['FOSA', 'PFBA', 'PFBS', 'PFDA', 'PFDoDA', 'PFHpA', 'PFHxA', \n",
    "            'PFHxS', 'PFNA', 'PFOA', 'PFOS', 'PFPeA', 'PFTeDA', 'PFTrDA', \n",
    "            'PFUnDA', 'value', 'lc_value', 'sc_value']\n",
    "\n",
    "input_path = r'E:\\wyy\\code_project\\running_outcome\\final_data\\SPDB\\part3_forecast\\sw_forecast\\s7_rf_output\\only_seed'\n",
    "output_path = r'E:\\wyy\\code_project\\running_outcome\\final_data\\SPDB\\part3_forecast\\sw_forecast\\s7_rf_output\\only_pfas'\n",
    "mu.process_csv_files(input_path, output_path, columns, 'sw')\n"
   ]
  },
  {
   "cell_type": "code",
   "execution_count": null,
   "metadata": {},
   "outputs": [],
   "source": [
    "list_pfas = ['PFOA', 'PFNA', 'PFDA', 'PFUnDA','PFDoDA','PFTrDA', 'PFTeDA', 'PFHxS', 'PFOS', 'FOSA', 'PFBA', 'PFPeA', 'PFHxA', 'PFHpA','PFBS']\n",
    "list_pfas_lc = ['PFOA', 'PFNA', 'PFDA', 'PFUnDA','PFDoDA','PFTrDA', 'PFTeDA', 'PFHxS', 'PFOS', 'FOSA']\n",
    "list_pfas_sc = ['PFBA', 'PFPeA', 'PFHxA', 'PFHpA','PFBS']\n",
    "\n",
    "input_path = r'E:\\wyy\\code_project\\running_outcome\\final_data\\SPDB\\part3_forecast\\sw_forecast\\s7_rf_output\\only_pfas'\n",
    "output_path = r'E:\\wyy\\code_project\\running_outcome\\final_data\\SPDB\\part3_forecast\\sw_forecast\\s7_rf_output\\only_year'\n",
    "mu.process_and_split_pfas_data(input_path, output_path, list_pfas, list_pfas_lc, list_pfas_sc)\n"
   ]
  },
  {
   "cell_type": "markdown",
   "metadata": {},
   "source": [
    "### species"
   ]
  },
  {
   "cell_type": "code",
   "execution_count": 5,
   "metadata": {},
   "outputs": [
    {
     "name": "stdout",
     "output_type": "stream",
     "text": [
      "40\n",
      "随机生成的种子： [149906, 117527, 57636, 158273, 58196, 136847, 4650, 33364, 58308, 184824]\n",
      "{'bootstrap': True, 'ccp_alpha': 0.0, 'criterion': 'squared_error', 'max_depth': None, 'max_features': 1.0, 'max_leaf_nodes': None, 'max_samples': None, 'min_impurity_decrease': 0.0, 'min_samples_leaf': 1, 'min_samples_split': 2, 'min_weight_fraction_leaf': 0.0, 'n_estimators': 200, 'n_jobs': None, 'oob_score': False, 'random_state': 149906, 'verbose': 0, 'warm_start': False}\n",
      "{'bootstrap': True, 'ccp_alpha': 0.0, 'criterion': 'squared_error', 'max_depth': None, 'max_features': 1.0, 'max_leaf_nodes': None, 'max_samples': None, 'min_impurity_decrease': 0.0, 'min_samples_leaf': 1, 'min_samples_split': 2, 'min_weight_fraction_leaf': 0.0, 'n_estimators': 200, 'n_jobs': None, 'oob_score': False, 'random_state': 117527, 'verbose': 0, 'warm_start': False}\n",
      "{'bootstrap': True, 'ccp_alpha': 0.0, 'criterion': 'squared_error', 'max_depth': None, 'max_features': 1.0, 'max_leaf_nodes': None, 'max_samples': None, 'min_impurity_decrease': 0.0, 'min_samples_leaf': 1, 'min_samples_split': 2, 'min_weight_fraction_leaf': 0.0, 'n_estimators': 200, 'n_jobs': None, 'oob_score': False, 'random_state': 57636, 'verbose': 0, 'warm_start': False}\n",
      "{'bootstrap': True, 'ccp_alpha': 0.0, 'criterion': 'squared_error', 'max_depth': None, 'max_features': 1.0, 'max_leaf_nodes': None, 'max_samples': None, 'min_impurity_decrease': 0.0, 'min_samples_leaf': 1, 'min_samples_split': 2, 'min_weight_fraction_leaf': 0.0, 'n_estimators': 200, 'n_jobs': None, 'oob_score': False, 'random_state': 158273, 'verbose': 0, 'warm_start': False}\n",
      "{'bootstrap': True, 'ccp_alpha': 0.0, 'criterion': 'squared_error', 'max_depth': None, 'max_features': 1.0, 'max_leaf_nodes': None, 'max_samples': None, 'min_impurity_decrease': 0.0, 'min_samples_leaf': 1, 'min_samples_split': 2, 'min_weight_fraction_leaf': 0.0, 'n_estimators': 200, 'n_jobs': None, 'oob_score': False, 'random_state': 58196, 'verbose': 0, 'warm_start': False}\n",
      "{'bootstrap': True, 'ccp_alpha': 0.0, 'criterion': 'squared_error', 'max_depth': None, 'max_features': 1.0, 'max_leaf_nodes': None, 'max_samples': None, 'min_impurity_decrease': 0.0, 'min_samples_leaf': 1, 'min_samples_split': 2, 'min_weight_fraction_leaf': 0.0, 'n_estimators': 200, 'n_jobs': None, 'oob_score': False, 'random_state': 136847, 'verbose': 0, 'warm_start': False}\n",
      "{'bootstrap': True, 'ccp_alpha': 0.0, 'criterion': 'squared_error', 'max_depth': None, 'max_features': 1.0, 'max_leaf_nodes': None, 'max_samples': None, 'min_impurity_decrease': 0.0, 'min_samples_leaf': 1, 'min_samples_split': 2, 'min_weight_fraction_leaf': 0.0, 'n_estimators': 200, 'n_jobs': None, 'oob_score': False, 'random_state': 4650, 'verbose': 0, 'warm_start': False}\n",
      "{'bootstrap': True, 'ccp_alpha': 0.0, 'criterion': 'squared_error', 'max_depth': None, 'max_features': 1.0, 'max_leaf_nodes': None, 'max_samples': None, 'min_impurity_decrease': 0.0, 'min_samples_leaf': 1, 'min_samples_split': 2, 'min_weight_fraction_leaf': 0.0, 'n_estimators': 200, 'n_jobs': None, 'oob_score': False, 'random_state': 33364, 'verbose': 0, 'warm_start': False}\n",
      "{'bootstrap': True, 'ccp_alpha': 0.0, 'criterion': 'squared_error', 'max_depth': None, 'max_features': 1.0, 'max_leaf_nodes': None, 'max_samples': None, 'min_impurity_decrease': 0.0, 'min_samples_leaf': 1, 'min_samples_split': 2, 'min_weight_fraction_leaf': 0.0, 'n_estimators': 200, 'n_jobs': None, 'oob_score': False, 'random_state': 58308, 'verbose': 0, 'warm_start': False}\n",
      "{'bootstrap': True, 'ccp_alpha': 0.0, 'criterion': 'squared_error', 'max_depth': None, 'max_features': 1.0, 'max_leaf_nodes': None, 'max_samples': None, 'min_impurity_decrease': 0.0, 'min_samples_leaf': 1, 'min_samples_split': 2, 'min_weight_fraction_leaf': 0.0, 'n_estimators': 200, 'n_jobs': None, 'oob_score': False, 'random_state': 184824, 'verbose': 0, 'warm_start': False}\n",
      "okk\n"
     ]
    }
   ],
   "source": [
    "scoring = 'r2'\n",
    "str_describe = 'lrsws7'\n",
    "\n",
    "path_lr_rfecv_data = drive_letter + '/wyy/code_project/running_outcome/final_data/SPDB/part3_forecast/lr_forecast/'\n",
    "\n",
    "df_lr_sem = pd.read_csv(path_semdata + 'sem_'+str_describe+'_au_to_25_avg_full.csv')\n",
    "df_lr_sem['year'] = (df_lr_sem['year'] - 2000) / (2020 - 2000)\n",
    "\n",
    "df_lr_raw = pd.read_csv(path_match + 'lr_fish_full.csv')\n",
    "\n",
    "best_params = pd.read_csv(path_lr_rfecv_data + 'ml_cv_best.csv')\n",
    "best_params = best_params.sort_values(by='mean_test_score', ascending=False)\n",
    "\n",
    "selected_features_rf = pd.read_csv(path_lr_rfecv_data + str_describe + \"_rfecv_features_RFcv.csv\")\n",
    "selected_features_rf = selected_features_rf[selected_features_rf[\"Rank\"] == 1][\"Feature\"].values\n",
    "\n",
    "path_lr_input = drive_letter + '/wyy/code_project/running_outcome/final_data/SPDB/part3_forecast/lr_forecast/forecast_input/'\n",
    "path_lr_output_rf = drive_letter + '/wyy/code_project/running_outcome/final_data/SPDB/part3_forecast/lr_forecast/s7_rf_output/all_raw/'\n",
    "path_lr_output_gbdt = drive_letter + '/wyy/code_project/running_outcome/final_data/SPDB/part3_forecast/lr_forecast/s7_gbdt_output/all_raw/'\n",
    "\n",
    "mu.start_lr_forecast_uncertain(df_lr_sem, df_lr_raw, best_params, selected_features_rf, path_lr_input, path_lr_output_rf, 'RF')\n"
   ]
  },
  {
   "cell_type": "code",
   "execution_count": 6,
   "metadata": {},
   "outputs": [
    {
     "name": "stdout",
     "output_type": "stream",
     "text": [
      "处理完成！\n"
     ]
    }
   ],
   "source": [
    "\n",
    "base_folder_path = r'E:\\wyy\\code_project\\running_outcome\\final_data\\SPDB\\part3_forecast\\lr_forecast\\s7_rf_output\\all_raw'\n",
    "output_base_path = r'E:\\wyy\\code_project\\running_outcome\\final_data\\SPDB\\part3_forecast\\lr_forecast\\s7_rf_output\\merge_organ'\n",
    "mu.process_pfas_data(base_folder_path, output_base_path)\n"
   ]
  },
  {
   "cell_type": "code",
   "execution_count": 7,
   "metadata": {},
   "outputs": [
    {
     "name": "stdout",
     "output_type": "stream",
     "text": [
      "merge over\n",
      "merge over\n",
      "merge over\n",
      "merge over\n",
      "merge over\n",
      "merge over\n",
      "merge over\n",
      "merge over\n",
      "merge over\n",
      "merge over\n"
     ]
    }
   ],
   "source": [
    "\n",
    "base_input_path = r'E:\\wyy\\code_project\\running_outcome\\final_data\\SPDB\\part3_forecast\\lr_forecast\\s7_rf_output\\merge_organ'\n",
    "base_output_path = r'E:\\wyy\\code_project\\running_outcome\\final_data\\SPDB\\part3_forecast\\lr_forecast\\s7_rf_output\\merge_pfas'\n",
    "\n",
    "folder_names = [name for name in os.listdir(base_input_path) if os.path.isdir(os.path.join(base_input_path, name))]\n",
    "\n",
    "for folder in folder_names:\n",
    "    lr_path_input = os.path.join(base_input_path, folder)\n",
    "    lr_path_output = os.path.join(base_output_path, folder)\n",
    "    if not os.path.exists(lr_path_output):\n",
    "        os.makedirs(lr_path_output)\n",
    "    mu.merge_year(lr_path_input, lr_path_output, 'lr', 'value')\n"
   ]
  },
  {
   "cell_type": "code",
   "execution_count": 8,
   "metadata": {},
   "outputs": [
    {
     "name": "stdout",
     "output_type": "stream",
     "text": [
      "Processing folder: 117527\n",
      "Merge completed, file saved to: E:\\wyy\\code_project\\running_outcome\\final_data\\SPDB\\part3_forecast\\lr_forecast\\s7_rf_output\\only_seed\\lr_117527.csv\n",
      "Processing folder: 136847\n",
      "Merge completed, file saved to: E:\\wyy\\code_project\\running_outcome\\final_data\\SPDB\\part3_forecast\\lr_forecast\\s7_rf_output\\only_seed\\lr_136847.csv\n",
      "Processing folder: 149906\n",
      "Merge completed, file saved to: E:\\wyy\\code_project\\running_outcome\\final_data\\SPDB\\part3_forecast\\lr_forecast\\s7_rf_output\\only_seed\\lr_149906.csv\n",
      "Processing folder: 158273\n",
      "Merge completed, file saved to: E:\\wyy\\code_project\\running_outcome\\final_data\\SPDB\\part3_forecast\\lr_forecast\\s7_rf_output\\only_seed\\lr_158273.csv\n",
      "Processing folder: 184824\n",
      "Merge completed, file saved to: E:\\wyy\\code_project\\running_outcome\\final_data\\SPDB\\part3_forecast\\lr_forecast\\s7_rf_output\\only_seed\\lr_184824.csv\n",
      "Processing folder: 33364\n",
      "Merge completed, file saved to: E:\\wyy\\code_project\\running_outcome\\final_data\\SPDB\\part3_forecast\\lr_forecast\\s7_rf_output\\only_seed\\lr_33364.csv\n",
      "Processing folder: 4650\n",
      "Merge completed, file saved to: E:\\wyy\\code_project\\running_outcome\\final_data\\SPDB\\part3_forecast\\lr_forecast\\s7_rf_output\\only_seed\\lr_4650.csv\n",
      "Processing folder: 57636\n",
      "Merge completed, file saved to: E:\\wyy\\code_project\\running_outcome\\final_data\\SPDB\\part3_forecast\\lr_forecast\\s7_rf_output\\only_seed\\lr_57636.csv\n",
      "Processing folder: 58196\n",
      "Merge completed, file saved to: E:\\wyy\\code_project\\running_outcome\\final_data\\SPDB\\part3_forecast\\lr_forecast\\s7_rf_output\\only_seed\\lr_58196.csv\n",
      "Processing folder: 58308\n",
      "Merge completed, file saved to: E:\\wyy\\code_project\\running_outcome\\final_data\\SPDB\\part3_forecast\\lr_forecast\\s7_rf_output\\only_seed\\lr_58308.csv\n"
     ]
    }
   ],
   "source": [
    "# 设置路径\n",
    "base_path = r'E:\\wyy\\code_project\\running_outcome\\final_data\\SPDB\\part3_forecast\\lr_forecast\\s7_rf_output\\merge_pfas'\n",
    "output_path = r'E:\\wyy\\code_project\\running_outcome\\final_data\\SPDB\\part3_forecast\\lr_forecast\\s7_rf_output\\only_seed'\n",
    "mu.merge_csv_files(base_path, output_path, 'lr')\n"
   ]
  },
  {
   "cell_type": "code",
   "execution_count": 9,
   "metadata": {},
   "outputs": [
    {
     "name": "stdout",
     "output_type": "stream",
     "text": [
      "Processing column: FOSA\n",
      "Used column names: ['FOSA_117527', 'FOSA_136847', 'FOSA_149906', 'FOSA_158273', 'FOSA_184824', 'FOSA_33364', 'FOSA_4650', 'FOSA_57636', 'FOSA_58196', 'FOSA_58308']\n",
      "Merge completed, file saved to: E:\\wyy\\code_project\\running_outcome\\final_data\\SPDB\\part3_forecast\\lr_forecast\\s7_rf_output\\only_pfas\\lr_FOSA.csv\n",
      "Processing column: PFBA\n",
      "Used column names: ['PFBA_117527', 'PFBA_136847', 'PFBA_149906', 'PFBA_158273', 'PFBA_184824', 'PFBA_33364', 'PFBA_4650', 'PFBA_57636', 'PFBA_58196', 'PFBA_58308']\n",
      "Merge completed, file saved to: E:\\wyy\\code_project\\running_outcome\\final_data\\SPDB\\part3_forecast\\lr_forecast\\s7_rf_output\\only_pfas\\lr_PFBA.csv\n",
      "Processing column: PFBS\n",
      "Used column names: ['PFBS_117527', 'PFBS_136847', 'PFBS_149906', 'PFBS_158273', 'PFBS_184824', 'PFBS_33364', 'PFBS_4650', 'PFBS_57636', 'PFBS_58196', 'PFBS_58308']\n",
      "Merge completed, file saved to: E:\\wyy\\code_project\\running_outcome\\final_data\\SPDB\\part3_forecast\\lr_forecast\\s7_rf_output\\only_pfas\\lr_PFBS.csv\n",
      "Processing column: PFDA\n",
      "Used column names: ['PFDA_117527', 'PFDA_136847', 'PFDA_149906', 'PFDA_158273', 'PFDA_184824', 'PFDA_33364', 'PFDA_4650', 'PFDA_57636', 'PFDA_58196', 'PFDA_58308']\n",
      "Merge completed, file saved to: E:\\wyy\\code_project\\running_outcome\\final_data\\SPDB\\part3_forecast\\lr_forecast\\s7_rf_output\\only_pfas\\lr_PFDA.csv\n",
      "Processing column: PFDoDA\n",
      "Used column names: ['PFDoDA_117527', 'PFDoDA_136847', 'PFDoDA_149906', 'PFDoDA_158273', 'PFDoDA_184824', 'PFDoDA_33364', 'PFDoDA_4650', 'PFDoDA_57636', 'PFDoDA_58196', 'PFDoDA_58308']\n",
      "Merge completed, file saved to: E:\\wyy\\code_project\\running_outcome\\final_data\\SPDB\\part3_forecast\\lr_forecast\\s7_rf_output\\only_pfas\\lr_PFDoDA.csv\n",
      "Processing column: PFHpA\n",
      "Used column names: ['PFHpA_117527', 'PFHpA_136847', 'PFHpA_149906', 'PFHpA_158273', 'PFHpA_184824', 'PFHpA_33364', 'PFHpA_4650', 'PFHpA_57636', 'PFHpA_58196', 'PFHpA_58308']\n",
      "Merge completed, file saved to: E:\\wyy\\code_project\\running_outcome\\final_data\\SPDB\\part3_forecast\\lr_forecast\\s7_rf_output\\only_pfas\\lr_PFHpA.csv\n",
      "Processing column: PFHxA\n",
      "Used column names: ['PFHxA_117527', 'PFHxA_136847', 'PFHxA_149906', 'PFHxA_158273', 'PFHxA_184824', 'PFHxA_33364', 'PFHxA_4650', 'PFHxA_57636', 'PFHxA_58196', 'PFHxA_58308']\n",
      "Merge completed, file saved to: E:\\wyy\\code_project\\running_outcome\\final_data\\SPDB\\part3_forecast\\lr_forecast\\s7_rf_output\\only_pfas\\lr_PFHxA.csv\n",
      "Processing column: PFHxS\n",
      "Used column names: ['PFHxS_117527', 'PFHxS_136847', 'PFHxS_149906', 'PFHxS_158273', 'PFHxS_184824', 'PFHxS_33364', 'PFHxS_4650', 'PFHxS_57636', 'PFHxS_58196', 'PFHxS_58308']\n",
      "Merge completed, file saved to: E:\\wyy\\code_project\\running_outcome\\final_data\\SPDB\\part3_forecast\\lr_forecast\\s7_rf_output\\only_pfas\\lr_PFHxS.csv\n",
      "Processing column: PFNA\n",
      "Used column names: ['PFNA_117527', 'PFNA_136847', 'PFNA_149906', 'PFNA_158273', 'PFNA_184824', 'PFNA_33364', 'PFNA_4650', 'PFNA_57636', 'PFNA_58196', 'PFNA_58308']\n",
      "Merge completed, file saved to: E:\\wyy\\code_project\\running_outcome\\final_data\\SPDB\\part3_forecast\\lr_forecast\\s7_rf_output\\only_pfas\\lr_PFNA.csv\n",
      "Processing column: PFOA\n",
      "Used column names: ['PFOA_117527', 'PFOA_136847', 'PFOA_149906', 'PFOA_158273', 'PFOA_184824', 'PFOA_33364', 'PFOA_4650', 'PFOA_57636', 'PFOA_58196', 'PFOA_58308']\n",
      "Merge completed, file saved to: E:\\wyy\\code_project\\running_outcome\\final_data\\SPDB\\part3_forecast\\lr_forecast\\s7_rf_output\\only_pfas\\lr_PFOA.csv\n",
      "Processing column: PFOS\n",
      "Used column names: ['PFOS_117527', 'PFOS_136847', 'PFOS_149906', 'PFOS_158273', 'PFOS_184824', 'PFOS_33364', 'PFOS_4650', 'PFOS_57636', 'PFOS_58196', 'PFOS_58308']\n",
      "Merge completed, file saved to: E:\\wyy\\code_project\\running_outcome\\final_data\\SPDB\\part3_forecast\\lr_forecast\\s7_rf_output\\only_pfas\\lr_PFOS.csv\n",
      "Processing column: PFPeA\n",
      "Used column names: ['PFPeA_117527', 'PFPeA_136847', 'PFPeA_149906', 'PFPeA_158273', 'PFPeA_184824', 'PFPeA_33364', 'PFPeA_4650', 'PFPeA_57636', 'PFPeA_58196', 'PFPeA_58308']\n",
      "Merge completed, file saved to: E:\\wyy\\code_project\\running_outcome\\final_data\\SPDB\\part3_forecast\\lr_forecast\\s7_rf_output\\only_pfas\\lr_PFPeA.csv\n",
      "Processing column: PFTeDA\n",
      "Used column names: ['PFTeDA_117527', 'PFTeDA_136847', 'PFTeDA_149906', 'PFTeDA_158273', 'PFTeDA_184824', 'PFTeDA_33364', 'PFTeDA_4650', 'PFTeDA_57636', 'PFTeDA_58196', 'PFTeDA_58308']\n",
      "Merge completed, file saved to: E:\\wyy\\code_project\\running_outcome\\final_data\\SPDB\\part3_forecast\\lr_forecast\\s7_rf_output\\only_pfas\\lr_PFTeDA.csv\n",
      "Processing column: PFTrDA\n",
      "Used column names: ['PFTrDA_117527', 'PFTrDA_136847', 'PFTrDA_149906', 'PFTrDA_158273', 'PFTrDA_184824', 'PFTrDA_33364', 'PFTrDA_4650', 'PFTrDA_57636', 'PFTrDA_58196', 'PFTrDA_58308']\n",
      "Merge completed, file saved to: E:\\wyy\\code_project\\running_outcome\\final_data\\SPDB\\part3_forecast\\lr_forecast\\s7_rf_output\\only_pfas\\lr_PFTrDA.csv\n",
      "Processing column: PFUnDA\n",
      "Used column names: ['PFUnDA_117527', 'PFUnDA_136847', 'PFUnDA_149906', 'PFUnDA_158273', 'PFUnDA_184824', 'PFUnDA_33364', 'PFUnDA_4650', 'PFUnDA_57636', 'PFUnDA_58196', 'PFUnDA_58308']\n",
      "Merge completed, file saved to: E:\\wyy\\code_project\\running_outcome\\final_data\\SPDB\\part3_forecast\\lr_forecast\\s7_rf_output\\only_pfas\\lr_PFUnDA.csv\n",
      "Processing column: value\n",
      "Used column names: ['value_117527', 'value_136847', 'value_149906', 'value_158273', 'value_184824', 'value_33364', 'value_4650', 'value_57636', 'value_58196', 'value_58308']\n",
      "Merge completed, file saved to: E:\\wyy\\code_project\\running_outcome\\final_data\\SPDB\\part3_forecast\\lr_forecast\\s7_rf_output\\only_pfas\\lr_value.csv\n",
      "Processing column: lc_value\n",
      "Used column names: ['lc_value_117527', 'lc_value_136847', 'lc_value_149906', 'lc_value_158273', 'lc_value_184824', 'lc_value_33364', 'lc_value_4650', 'lc_value_57636', 'lc_value_58196', 'lc_value_58308']\n",
      "Merge completed, file saved to: E:\\wyy\\code_project\\running_outcome\\final_data\\SPDB\\part3_forecast\\lr_forecast\\s7_rf_output\\only_pfas\\lr_lc_value.csv\n",
      "Processing column: sc_value\n",
      "Used column names: ['sc_value_117527', 'sc_value_136847', 'sc_value_149906', 'sc_value_158273', 'sc_value_184824', 'sc_value_33364', 'sc_value_4650', 'sc_value_57636', 'sc_value_58196', 'sc_value_58308']\n",
      "Merge completed, file saved to: E:\\wyy\\code_project\\running_outcome\\final_data\\SPDB\\part3_forecast\\lr_forecast\\s7_rf_output\\only_pfas\\lr_sc_value.csv\n"
     ]
    }
   ],
   "source": [
    "columns = ['FOSA', 'PFBA', 'PFBS', 'PFDA', 'PFDoDA', 'PFHpA', 'PFHxA', \n",
    "            'PFHxS', 'PFNA', 'PFOA', 'PFOS', 'PFPeA', 'PFTeDA', 'PFTrDA', \n",
    "            'PFUnDA', 'value', 'lc_value', 'sc_value']\n",
    "\n",
    "input_path = r'E:\\wyy\\code_project\\running_outcome\\final_data\\SPDB\\part3_forecast\\lr_forecast\\s7_rf_output\\only_seed'\n",
    "output_path = r'E:\\wyy\\code_project\\running_outcome\\final_data\\SPDB\\part3_forecast\\lr_forecast\\s7_rf_output\\only_pfas'\n",
    "mu.process_csv_files(input_path, output_path, columns, 'lr')\n"
   ]
  },
  {
   "cell_type": "code",
   "execution_count": 2,
   "metadata": {},
   "outputs": [
    {
     "name": "stdout",
     "output_type": "stream",
     "text": [
      "suffix: \n",
      "处理完成。所有文件已保存到指定目录。\n"
     ]
    }
   ],
   "source": [
    "list_pfas = ['PFOA', 'PFNA', 'PFDA', 'PFUnDA','PFDoDA','PFTrDA', 'PFTeDA', 'PFHxS', 'PFOS', 'FOSA', 'PFBA', 'PFPeA', 'PFHxA', 'PFHpA','PFBS']\n",
    "list_pfas_lc = ['PFOA', 'PFNA', 'PFDA', 'PFUnDA','PFDoDA','PFTrDA', 'PFTeDA', 'PFHxS', 'PFOS', 'FOSA']\n",
    "list_pfas_sc = ['PFBA', 'PFPeA', 'PFHxA', 'PFHpA','PFBS']\n",
    "\n",
    "input_path = r'E:\\wyy\\code_project\\running_outcome\\final_data\\SPDB\\part3_forecast\\lr_forecast\\s7_rf_output\\only_pfas'\n",
    "output_path = r'E:\\wyy\\code_project\\running_outcome\\final_data\\SPDB\\part3_forecast\\lr_forecast\\s7_rf_output\\only_year'\n",
    "mu.process_and_split_pfas_data(input_path, output_path, list_pfas, list_pfas_lc, list_pfas_sc, 2000, 2021, 'lr')\n"
   ]
  },
  {
   "cell_type": "markdown",
   "metadata": {},
   "source": [
    "### fig"
   ]
  },
  {
   "cell_type": "code",
   "execution_count": null,
   "metadata": {},
   "outputs": [],
   "source": [
    "path_rf_sw = r\"E:\\wyy\\code_project\\running_outcome\\final_data\\SPDB\\part3_forecast\\sw_forecast\\s7_rf_output\\only_year\"\n",
    "df_result_rf_sw = mu.process_pfas_yearly_data(path_rf_sw)\n",
    "mu.draw_year_gpfas(df_result_rf_sw)"
   ]
  },
  {
   "cell_type": "code",
   "execution_count": null,
   "metadata": {},
   "outputs": [],
   "source": [
    "path_rf_lr = r\"E:\\wyy\\code_project\\running_outcome\\final_data\\SPDB\\part3_forecast\\lr_forecast\\s7_rf_output\\only_year\"\n",
    "df_result_rf_lr = mu.process_pfas_yearly_data(path_rf_lr)\n",
    "mu.draw_year_gpfas(df_result_rf_lr)"
   ]
  }
 ],
 "metadata": {
  "kernelspec": {
   "display_name": "base",
   "language": "python",
   "name": "python3"
  },
  "language_info": {
   "codemirror_mode": {
    "name": "ipython",
    "version": 3
   },
   "file_extension": ".py",
   "mimetype": "text/x-python",
   "name": "python",
   "nbconvert_exporter": "python",
   "pygments_lexer": "ipython3",
   "version": "3.9.18"
  }
 },
 "nbformat": 4,
 "nbformat_minor": 2
}
