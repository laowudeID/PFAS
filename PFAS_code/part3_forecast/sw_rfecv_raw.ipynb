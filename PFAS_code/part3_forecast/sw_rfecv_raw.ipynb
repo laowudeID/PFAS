{
 "cells": [
  {
   "cell_type": "markdown",
   "metadata": {},
   "source": [
    "Water Data: RFECV, grid search superparameter, ten fold cross validation\n",
    "\n",
    "\n",
    "水体数据: RFECV, 网格搜索超参，十折交叉验证"
   ]
  },
  {
   "cell_type": "code",
   "execution_count": 1,
   "metadata": {},
   "outputs": [],
   "source": [
    "import sys\n",
    "sys.path.append('..')\n",
    "import pandas as pd\n",
    "import numpy as np\n",
    "import myfunction as mf\n",
    "import myrfecv as mr\n",
    "path_data_raw = \"C:/Users/dell/OneDrive/file/\"\n",
    "path_country_nc = \"C:/Users/dell/OneDrive/file/nc\"\n",
    "path_onedrive_csv = \"C:/Users/dell/OneDrive/file/csv/\"\n",
    "path_one_spdb = 'C:/Users/dell/OneDrive/file/SPDB/'\n",
    "drive_letter = 'E:'\n",
    "\n",
    "path_pre = drive_letter + \"/wyy/code_project/running_outcome/final_data/SPDB/part0_treat/pretreatment/\"\n",
    "path_match = drive_letter + \"/wyy/code_project/running_outcome/final_data/SPDB/part0_treat/match/\"\n",
    "path_semdata = drive_letter + \"/wyy/code_project/running_outcome/final_data/SPDB/part0_treat/semdata/\"\n",
    "\n",
    "path_2_preanalysis_data = drive_letter + \"/wyy/code_project/running_outcome/final_data/SPDB/part2_sem/preanalysis/\"\n",
    "path_2_preanalysis_fig = drive_letter + \"/wyy/code_project/running_outcome/final_fig/SPDB/part2_sem/preanalysis/\"\n",
    "path_3_sw_forecast = drive_letter + \"/wyy/code_project/running_outcome/final_data/SPDB/part3_forecast/sw_forecast/\"\n",
    "path_temp = drive_letter + \"/wyy/code_project/running_outcome/final_data/SPDB/temp/\"\n",
    "\n",
    "\n",
    "mark_num = \"25\"\n",
    "meta_name = \"meta_data.csv\"\n",
    "list_pfas =['PFOA', 'PFNA', 'PFDA', 'PFUnDA','PFDoDA','PFTrDA', 'PFTeDA', 'PFHxS', 'PFOS', 'FOSA', 'PFBA', 'PFPeA', 'PFHxA', 'PFHpA','PFBS']\n",
    "list_pfas_lc = ['PFOA', 'PFNA', 'PFDA', 'PFUnDA','PFDoDA','PFTrDA', 'PFTeDA', 'PFHxS', 'PFOS', 'FOSA']\n",
    "list_pfas_sc = ['PFBA', 'PFPeA', 'PFHxA', 'PFHpA','PFBS']\n",
    "list_color = [\"#4d8cbf\", \"#4f9c8b\", \"#555c6c\", \"#d77563\", \"#7d84a8\", \"#84aeb8\", \"#c3473b\", \"#89756d\",\"#ffb3cc\",\"#9a7ebf\",\"#ffddb8\", \"#c4eaff\", \"#d1c6ff\", \"#c2ffbf\", \"#f5f5b0\"]\n",
    "dic_color = dict(zip(list_pfas,list_color))"
   ]
  },
  {
   "cell_type": "markdown",
   "metadata": {},
   "source": [
    "### RFECV+超参寻找"
   ]
  },
  {
   "cell_type": "code",
   "execution_count": null,
   "metadata": {},
   "outputs": [],
   "source": [
    "# RFECV\n",
    "\n",
    "from sklearn.ensemble import RandomForestRegressor, GradientBoostingRegressor\n",
    "df_sw_data_raw = pd.read_csv(path_semdata + \"sem_sw_s7_au_to_\"+mark_num+\"_avg.csv\")\n",
    "df_sw_data_raw['year'] = (df_sw_data_raw['year'] - 2000) / (2020 - 2000)\n",
    "columns_to_drop = ['lon_grid', 'lat_grid']\n",
    "df_sw_data = df_sw_data_raw.drop(columns=columns_to_drop)\n",
    "\n",
    "print(df_sw_data.columns)\n",
    "\n",
    "path_sw_rfecv_data = drive_letter + '/wyy/code_project/running_outcome/final_data/SPDB/part3_forecast/sw_forecast/'\n",
    "path_sw_rfecv_fig = drive_letter + '/wyy/code_project/running_outcome/final_fig/SPDB/part3_forecast/sw_forecast/'\n",
    "\n",
    "dict_clf = {\n",
    "    'GBDT': GradientBoostingRegressor(random_state=202406),\n",
    "    'RF': RandomForestRegressor(random_state=202406),\n",
    "}\n",
    "\n",
    "str_marker_type = 'sws7'\n",
    "for key, clf in dict_clf.items():\n",
    "    mr.start_rfecv(key, clf, df_sw_data, str_marker_type, path_sw_rfecv_data, path_sw_rfecv_fig, 'cv')\n",
    "# 58m\n",
    "\n",
    "df_sw_rf_rfecv = pd.read_csv(path_sw_rfecv_data + str_marker_type + '_rfecv_r2_RFcv.csv')\n",
    "df_sw_rf_rfecv['model'] = 'RF'\n",
    "df_sw_gbdt_rfecv = pd.read_csv(path_sw_rfecv_data + str_marker_type + '_rfecv_r2_GBDTcv.csv')\n",
    "df_sw_gbdt_rfecv['model'] = 'GBDT'\n",
    "\n",
    "df_sw_rfecv = pd.concat([df_sw_rf_rfecv,df_sw_gbdt_rfecv],axis=0)\n",
    "df_sw_rfecv = df_sw_rfecv.sort_values(by='mean_test_score', ascending=False)\n",
    "print(df_sw_rfecv.head())\n",
    "max_index = df_sw_rfecv['mean_test_score'].idxmax()\n",
    "min_features = df_sw_rfecv.loc[max_index, 'min_features'].tolist()[0]\n",
    "max_model = df_sw_rfecv.loc[max_index, 'model'].tolist()[0]\n",
    "max_score = round(df_sw_rfecv.loc[max_index, 'mean_test_score'].tolist()[0],3)\n",
    "df_sw_rfecv.to_csv(path_sw_rfecv_data + str_marker_type + '_merge_rfecv.csv',index=False)\n",
    "print(f'model:{max_model} min_feature:{min_features} score:{max_score}')\n",
    "\n",
    "# 123min"
   ]
  },
  {
   "cell_type": "code",
   "execution_count": null,
   "metadata": {},
   "outputs": [],
   "source": [
    "\n",
    "scoring = 'r2'\n",
    "str_describe = 'sws7'\n",
    "df_sw_data_raw = pd.read_csv(path_semdata + 'sem_sw_s7_au_to_' + mark_num +'_avg.csv')\n",
    "df_sw_data_raw['year'] = (df_sw_data_raw['year'] - 2000) / (2020 - 2000)\n",
    "columns_to_drop = ['lon_grid', 'lat_grid']\n",
    "df_sw_sem = df_sw_data_raw.drop(columns=columns_to_drop)\n",
    "\n",
    "path_sw_rfecv_data = drive_letter + '/wyy/code_project/running_outcome/final_data/SPDB/part3_forecast/sw_forecast/'\n",
    "\n",
    "param_grid_rf = {\n",
    "    'n_estimators': [50, 100, 200],\n",
    "    'max_depth': [None, 3, 5, 10],\n",
    "    'min_samples_split': [2, 4, 6],\n",
    "    'min_samples_leaf': [1, 2, 3],\n",
    "}\n",
    "param_grid_gbdt = {\n",
    "    'n_estimators': [50, 100, 200],\n",
    "    'learning_rate': [0.1],\n",
    "    'max_depth': [None, 3, 5, 10],\n",
    "    'min_samples_split': [2, 4, 6],\n",
    "    'min_samples_leaf': [1, 2, 3],\n",
    "}\n",
    "cv_result = mr.grid_search_param(df_sw_sem, str_describe, scoring, path_sw_rfecv_data, param_grid_rf, param_grid_gbdt, 'cv')\n",
    "cv_result.to_csv(path_sw_rfecv_data + 'ml_cv_results.csv', index=False)\n",
    "# 206min"
   ]
  },
  {
   "cell_type": "code",
   "execution_count": null,
   "metadata": {},
   "outputs": [],
   "source": [
    "cv_result = pd.read_csv(path_sw_rfecv_data + 'ml_cv_results.csv')\n",
    "results = mr.get_tree_best_model(cv_result)\n",
    "results.to_csv(path_sw_rfecv_data + 'ml_cv_best.csv', index=False)\n",
    "results = pd.read_csv(path_sw_rfecv_data + 'ml_cv_best.csv')\n",
    "for index, value in results['param_max_depth'].items():\n",
    "    if pd.isna(value) or value == '':\n",
    "        results.at[index, 'param_max_depth'] = 'None'\n",
    "results.to_csv(path_sw_rfecv_data + 'ml_cv_best.csv', index=False)"
   ]
  },
  {
   "cell_type": "code",
   "execution_count": 6,
   "metadata": {},
   "outputs": [
    {
     "name": "stdout",
     "output_type": "stream",
     "text": [
      "Average R2 for GBDT: 0.8487539106255861\n",
      "Average MSE for GBDT: 0.15017637657050928\n",
      "Average R2 for RF: 0.8252560967221937\n",
      "Average MSE for RF: 0.17364791440968308\n",
      "GBDT R2 scores for each fold: [0.8378904244833526, 0.8625286169718952, 0.8563917076422805, 0.8444044451687451, 0.840798367604384, 0.8199255935801109, 0.8665889917318368, 0.8598529008523887, 0.8444275274915376, 0.8547305307293285]\n",
      "GBDT MSE scores for each fold: [0.1576541308861602, 0.13667100849275707, 0.14953307329439078, 0.1547260787257209, 0.15289248078701875, 0.17554624018696394, 0.13626279275553266, 0.1388817055496256, 0.15259676354415366, 0.1469994914827694]\n",
      "RF R2 scores for each fold: [0.8130109187409805, 0.8256468659493262, 0.8221251389032479, 0.829933824616413, 0.8329525672831832, 0.7962265889477225, 0.8370237421716779, 0.8345431555910081, 0.8235827498366645, 0.8375154151817131]\n",
      "RF MSE scores for each fold: [0.18184984444712812, 0.17333802962982345, 0.18521336202059807, 0.16911583669289665, 0.16042735248913206, 0.19864930764724745, 0.16646002704585264, 0.16396292813864843, 0.17304283318387173, 0.1644196228016321]\n"
     ]
    }
   ],
   "source": [
    "\n",
    "scoring = 'r2'\n",
    "str_describe = 'sws7'\n",
    "\n",
    "df_sw_data_raw = pd.read_csv(path_semdata + 'sem_sw_s7_au_to_' + mark_num +'_avg.csv')\n",
    "df_sw_data_raw['year'] = (df_sw_data_raw['year'] - 2000) / (2020 - 2000)\n",
    "columns_to_drop = ['lon_grid', 'lat_grid']\n",
    "df_sw_sem = df_sw_data_raw.drop(columns=columns_to_drop)\n",
    "\n",
    "path_sw_rfecv_data = drive_letter + '/wyy/code_project/running_outcome/final_data/SPDB/part3_forecast/sw_forecast/'\n",
    "selected_features_gbdt = pd.read_csv(path_sw_rfecv_data + str_describe + \"_rfecv_features_GBDTcv.csv\")\n",
    "selected_features_gbdt = selected_features_gbdt[selected_features_gbdt[\"Rank\"] == 1][\"Feature\"].values\n",
    "\n",
    "selected_features_rf = pd.read_csv(path_sw_rfecv_data + str_describe + \"_rfecv_features_RFcv.csv\")\n",
    "selected_features_rf = selected_features_rf[selected_features_rf[\"Rank\"] == 1][\"Feature\"].values\n",
    "\n",
    "best_params = pd.read_csv(path_sw_rfecv_data + 'ml_cv_best.csv')\n",
    "\n",
    "results  = mr.tree_inf(df_sw_sem, selected_features_gbdt, selected_features_rf, best_params)\n",
    "print(\"GBDT R2 scores for each fold:\", results['gbdt_r2'])\n",
    "print(\"GBDT MSE scores for each fold:\", results['gbdt_mse'])\n",
    "print(\"RF R2 scores for each fold:\", results['rf_r2'])\n",
    "print(\"RF MSE scores for each fold:\", results['rf_mse'])"
   ]
  },
  {
   "cell_type": "code",
   "execution_count": null,
   "metadata": {},
   "outputs": [],
   "source": [
    "\n",
    "scoring = 'r2'\n",
    "str_describe = 'sws7'\n",
    "df_sw_sem = pd.read_csv(path_semdata + 'sem_sw_s7_au_to_' + mark_num +'_avg.csv')\n",
    "df_sw_sem['year'] = (df_sw_sem['year'] - 2000) / (2020 - 2000)\n",
    "path_sw_rfecv_data = drive_letter + '/wyy/code_project/running_outcome/final_data/SPDB/part3_forecast/sw_forecast/'\n",
    "\n",
    "\n",
    "best_params = pd.read_csv(path_sw_rfecv_data + 'ml_cv_best.csv')\n",
    "best_params = best_params.sort_values(by='mean_test_score', ascending=False)\n",
    "\n",
    "selected_features = pd.read_csv(path_sw_rfecv_data + str_describe + \"_rfecv_features_RFcv.csv\")\n",
    "selected_features = selected_features[selected_features[\"Rank\"] == 1][\"Feature\"].values\n",
    "print(len(selected_features))\n",
    "# Get best parameters for GBDT and RF\n",
    "model_params = best_params[best_params[\"model\"] == \"RF\"].iloc[0]\n",
    "# Define models with best parameters    \n",
    "if model_params[\"param_max_depth\"] == 'None':\n",
    "    param_max_depth = None\n",
    "else:\n",
    "    param_max_depth = float(model_params[\"param_max_depth\"])\n",
    "    param_max_depth = int(param_max_depth)\n",
    "select_model = RandomForestRegressor(\n",
    "    max_depth=param_max_depth,\n",
    "    min_samples_leaf=int(model_params[\"param_min_samples_leaf\"]),\n",
    "    min_samples_split=int(model_params[\"param_min_samples_split\"]),\n",
    "    n_estimators=int(model_params[\"param_n_estimators\"])\n",
    ")\n",
    "# Prepare data\n",
    "X_train = df_sw_sem[selected_features]\n",
    "y_train = df_sw_sem['value']\n",
    "\n",
    "select_model.fit(X_train, y_train)\n"
   ]
  },
  {
   "cell_type": "code",
   "execution_count": null,
   "metadata": {},
   "outputs": [],
   "source": [
    "df_data_raw = pd.read_csv(path_match + 'lr_fish_avg.csv')\n",
    "df_data_raw = df_data_raw[(df_data_raw['length_last'].notna())&(df_data_raw['weight_last'].notna())&(df_data_raw['troph_last'].notna())]\n",
    "df_data_raw = mf.id_to_str(df_data_raw,['posname'])\n",
    "df_data_raw.to_csv(path_match + 'lr_fish_full.csv')\n"
   ]
  },
  {
   "cell_type": "code",
   "execution_count": 8,
   "metadata": {},
   "outputs": [
    {
     "name": "stdout",
     "output_type": "stream",
     "text": [
      "Index(['TOTALS_CO2_E', 'GDP', 'u10', 'cth', 'C2F6', 'licd', 'night_lights',\n",
      "       'ref_ice', 'cfc', 'ltlt', 'stl1', 'cl', 'v10', 'v100',\n",
      "       'estuary_distance', 'TNR_Ship_CO2_E', 'sp', 'sshf', 'tp',\n",
      "       'port_distance', 'human_footprint', 'HFC', 'ctt', 'HCFC', 'ref_liq',\n",
      "       'skt', 'mine_distance', 'ctp', 'fluorite_consumption', 'sro', 'tcrw',\n",
      "       'paper_consumption', 'swvl1', 'tcsw', 'SF6', 'nships_smoothed',\n",
      "       'population', 'CF4', 'i10fg', 'global_salinity', 'SWD_INC_CO2_E',\n",
      "       'ssro', 'si10', 'wrap_consumption', 'e', 'lict', 'ssr', 'str', 'z',\n",
      "       'u100', 'dl', 'lon_grid', 'lat_grid', 'year', 'log_Koc', 'solubility',\n",
      "       'sp_length', 'po_carbon', 'melting_point', 'log_Kow', 'log_Koa_wet',\n",
      "       'boiling_point', 'sp_weight', 'log_Kaw', 'density', 'po_f_carbon',\n",
      "       'sp_troph', 'log_Koa_dry', 'po_xlogp', 'log_KHxd_air', 'log_Koil_w',\n",
      "       'po_m_w', 'log_Koil_air', 'value', 'organ_muscle', 'organ_whole',\n",
      "       'habitat', 'po_chain', 'year_raw', 'sw_value'],\n",
      "      dtype='object')\n"
     ]
    }
   ],
   "source": [
    "\n",
    "df_forecast_data = pd.read_csv(path_semdata + 'sem_lr_fish_au_to_25_avg.csv')\n",
    "df_forecast_data['year_raw'] = df_forecast_data['year']\n",
    "df_forecast_data['year'] = (df_forecast_data['year'] - 2000) / (2020 - 2000)\n",
    "\n",
    "X_forecast = df_forecast_data[selected_features]\n",
    "y_pred = select_model.predict(X_forecast)\n",
    "df_forecast_data['sw_value'] = y_pred\n",
    "print(df_forecast_data.columns)\n",
    "df_forecast_data.drop(columns=['year'], inplace=True)\n",
    "df_forecast_data = df_forecast_data.rename(columns={'year_raw':'year'})\n",
    "\n",
    "df_forecast_data.to_csv(path_semdata + 'sem_lrsws7_au_to_25_avg_full.csv',index=False)\n"
   ]
  }
 ],
 "metadata": {
  "kernelspec": {
   "display_name": "base",
   "language": "python",
   "name": "python3"
  },
  "language_info": {
   "codemirror_mode": {
    "name": "ipython",
    "version": 3
   },
   "file_extension": ".py",
   "mimetype": "text/x-python",
   "name": "python",
   "nbconvert_exporter": "python",
   "pygments_lexer": "ipython3",
   "version": "3.9.18"
  }
 },
 "nbformat": 4,
 "nbformat_minor": 2
}
