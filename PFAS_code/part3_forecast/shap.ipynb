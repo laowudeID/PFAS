{
 "cells": [
  {
   "cell_type": "markdown",
   "metadata": {},
   "source": [
    "Calculate Shap values and draw\n",
    "\n",
    "计算shap值以及绘图"
   ]
  },
  {
   "cell_type": "code",
   "execution_count": 1,
   "metadata": {},
   "outputs": [],
   "source": [
    "import sys\n",
    "sys.path.append('..')\n",
    "import pandas as pd\n",
    "import numpy as np\n",
    "import myfunction as mf\n",
    "path_data_raw = \"C:/Users/dell/OneDrive/file/\"\n",
    "path_country_nc = \"C:/Users/dell/OneDrive/file/nc\"\n",
    "path_one_spdb = 'C:/Users/dell/OneDrive/file/SPDB/'\n",
    "drive_letter = 'E:'\n",
    "\n",
    "path_pre = drive_letter + \"/wyy/code_project/running_outcome/final_data/SPDB/part0_treat/pretreatment/\"\n",
    "path_match = drive_letter + \"/wyy/code_project/running_outcome/final_data/SPDB/part0_treat/match/\"\n",
    "path_semdata = drive_letter + \"/wyy/code_project/running_outcome/final_data/SPDB/part0_treat/semdata/\"\n",
    "\n",
    "path_2_preanalysis_data = drive_letter + \"/wyy/code_project/running_outcome/final_data/SPDB/part2_sem/preanalysis/\"\n",
    "path_2_preanalysis_fig = drive_letter + \"/wyy/code_project/running_outcome/final_fig/SPDB/part2_sem/preanalysis/\"\n",
    "\n",
    "path_temp = drive_letter + \"/wyy/code_project/running_outcome/final_data/SPDB/temp/\"\n",
    "\n",
    "path_ng_fig = drive_letter + \"/wyy/code_project/running_outcome/final_fig/ng_fig/\"\n",
    "\n",
    "mark_num = \"25\"\n",
    "meta_name = \"meta_data.csv\"\n",
    "list_color = [\"#ee877c\", \"#8bd0e3\", \"#6abeae\", \"#808eaf\", \"#f7bba8\", \"#acb4cc\", \"#b5e0d5\", \"#e86462\", \"#a89687\"]"
   ]
  },
  {
   "cell_type": "code",
   "execution_count": 4,
   "metadata": {},
   "outputs": [],
   "source": [
    "from sklearn.ensemble import RandomForestRegressor\n",
    "\n",
    "scoring = 'r2'\n",
    "str_describe = 'lrsws7'\n",
    "df_lr_sem = pd.read_csv(path_semdata + \"sem_lrsws7_au_to_25_avg_full.csv\")\n",
    "path_lr_rfecv_data = drive_letter + '/wyy/code_project/running_outcome/final_data/SPDB/part3_forecast/lr_forecast/'\n",
    "\n",
    "df_lr_sem['year'] = (df_lr_sem['year'] - 2000) / (2020 - 2000)\n",
    "\n",
    "selected_features_rf = pd.read_csv(path_lr_rfecv_data + str_describe + \"_rfecv_features_RFcv.csv\")\n",
    "selected_features_rf = selected_features_rf[selected_features_rf[\"Rank\"] == 1][\"Feature\"].values\n",
    "\n",
    "best_params = pd.read_csv(path_lr_rfecv_data + 'ml_cv_best.csv')\n",
    "\n",
    "rf_params = best_params[best_params[\"model\"] == \"RF\"].iloc[0]\n",
    "\n",
    "if rf_params[\"param_max_depth\"] == 'None':\n",
    "    param_max_depth_rf = None\n",
    "else:\n",
    "    param_max_depth_rf = int(rf_params[\"param_max_depth\"])\n",
    "model_fish = RandomForestRegressor(\n",
    "    max_depth=param_max_depth_rf,\n",
    "    min_samples_leaf=int(rf_params[\"param_min_samples_leaf\"]),\n",
    "    min_samples_split=int(rf_params[\"param_min_samples_split\"]),\n",
    "    n_estimators=int(rf_params[\"param_n_estimators\"])\n",
    ")\n",
    "X = df_lr_sem[selected_features_rf]\n",
    "y = df_lr_sem['value']\n",
    "\n"
   ]
  },
  {
   "cell_type": "code",
   "execution_count": 4,
   "metadata": {},
   "outputs": [
    {
     "name": "stdout",
     "output_type": "stream",
     "text": [
      "SHAP values calculated and saved successfully.\n"
     ]
    }
   ],
   "source": [
    "\n",
    "import shap\n",
    "import pickle\n",
    "import pandas as pd\n",
    "import seaborn as sns\n",
    "import matplotlib.pyplot as plt\n",
    "\n",
    "model_fish.fit(X, y)\n",
    "\n",
    "try:\n",
    "    explainer_fish = shap.TreeExplainer(model_fish)\n",
    "    shap_values_fish = explainer_fish(X)\n",
    "    \n",
    "    # 保存 SHAP 值到本地文件\n",
    "    shap_save_path_fish = path_2_preanalysis_fig + 'shap_values_lrsws7.pkl'\n",
    "    with open(shap_save_path_fish, 'wb') as f:\n",
    "        pickle.dump(shap_values_fish, f)\n",
    "    \n",
    "    print(\"SHAP values calculated and saved successfully.\")\n",
    "except Exception as e:\n",
    "    print(f\"Error calculating or saving SHAP values: {e}\")\n",
    "\n"
   ]
  },
  {
   "cell_type": "code",
   "execution_count": null,
   "metadata": {},
   "outputs": [],
   "source": [
    "from matplotlib.colors import LinearSegmentedColormap\n",
    "import shap\n",
    "import pickle\n",
    "import pandas as pd\n",
    "import seaborn as sns\n",
    "import matplotlib.pyplot as plt\n",
    "shap_save_path_fish = path_2_preanalysis_fig + 'shap_values_lrsws7.pkl'\n",
    "try:\n",
    "    with open(shap_save_path_fish, 'rb') as f:\n",
    "        loaded_shap_values_fish = pickle.load(f)\n",
    "    print(\"SHAP values loaded successfully.\")\n",
    "except Exception as e:\n",
    "    print(f\"Error loading SHAP values: {e}\")\n",
    "    loaded_shap_values_fish = None"
   ]
  },
  {
   "cell_type": "code",
   "execution_count": 6,
   "metadata": {},
   "outputs": [
    {
     "name": "stderr",
     "output_type": "stream",
     "text": [
      "The figure layout has changed to tight\n",
      "The figure layout has changed to tight\n"
     ]
    }
   ],
   "source": [
    "# top 5\n",
    "import numpy as np\n",
    "import matplotlib.colors as mcolors\n",
    "\n",
    "feature_importance = np.abs(loaded_shap_values_fish.values).mean(0)\n",
    "feature_importance_order = np.argsort(feature_importance)[::-1]\n",
    "\n",
    "top_5_features = feature_importance_order[:5]\n",
    "\n",
    "top_5_shap_values = loaded_shap_values_fish.values[:, top_5_features]\n",
    "top_5_feature_names = X.columns[top_5_features]\n",
    "top_5_X = X.iloc[:, top_5_features]\n",
    "\n",
    "shap.summary_plot(top_5_shap_values, top_5_X, plot_type=\"bar\", show=False, color='#7d84a8', feature_names=top_5_feature_names)\n",
    "plt.title(\"SHAP Summary Bar Plot (Top 5 Features)\")\n",
    "\n",
    "ax = plt.gca()\n",
    "for p in ax.patches:\n",
    "    width = p.get_width()\n",
    "    ax.text(width, p.get_y() + p.get_height()/2, f'{width:.3f}', \n",
    "            ha='left', va='center')\n",
    "\n",
    "plt.tight_layout()\n",
    "plt.savefig(path_ng_fig + 'fig4_lrsws7_bar_top5.svg', bbox_inches='tight')\n",
    "plt.close()\n",
    "\n",
    "colors = ['#FFFF00', '#FF0000']\n",
    "n_bins = 100\n",
    "cmap = LinearSegmentedColormap.from_list('custom_cmap', colors, N=n_bins)\n",
    "\n",
    "shap.summary_plot(top_5_shap_values, top_5_X, plot_type=\"dot\", show=False, cmap=cmap, feature_names=top_5_feature_names, alpha=0.1, max_display=5)\n",
    "plt.title(\"SHAP Summary Dot Plot (Top 5 Features)\")\n",
    "plt.tight_layout()\n",
    "plt.savefig(path_ng_fig + 'fig_lrsws7_dot_top5.svg', bbox_inches='tight')\n",
    "plt.close()"
   ]
  },
  {
   "cell_type": "markdown",
   "metadata": {},
   "source": [
    "### sw"
   ]
  },
  {
   "cell_type": "code",
   "execution_count": 6,
   "metadata": {},
   "outputs": [],
   "source": [
    "from sklearn.ensemble import RandomForestRegressor\n",
    "\n",
    "scoring = 'r2'\n",
    "str_describe2 = 'sws7'\n",
    "df_sw_sem = pd.read_csv(path_semdata + 'sem_sw_s7_au_to_' + mark_num +'_avg.csv')\n",
    "path_sw_rfecv_data = drive_letter + '/wyy/code_project/running_outcome/final_data/SPDB/part3_forecast/sw_forecast/'\n",
    "\n",
    "\n",
    "df_sw_sem['year'] = (df_sw_sem['year'] - 2000) / (2020 - 2000)\n",
    "selected_features_rf = pd.read_csv(path_sw_rfecv_data + str_describe2 + \"_rfecv_features_RFcv.csv\")\n",
    "selected_features_rf = selected_features_rf[selected_features_rf[\"Rank\"] == 1][\"Feature\"].values\n",
    "\n",
    "best_params = pd.read_csv(path_sw_rfecv_data + 'ml_cv_best.csv')\n",
    "\n",
    "rf_params = best_params[best_params[\"model\"] == \"RF\"].iloc[0]\n",
    "\n",
    "if rf_params[\"param_max_depth\"] == 'None':\n",
    "    param_max_depth_rf = None\n",
    "else:\n",
    "    param_max_depth_rf = int(rf_params[\"param_max_depth\"])\n",
    "model_sw = RandomForestRegressor(\n",
    "    max_depth=param_max_depth_rf,\n",
    "    min_samples_leaf=int(rf_params[\"param_min_samples_leaf\"]),\n",
    "    min_samples_split=int(rf_params[\"param_min_samples_split\"]),\n",
    "    n_estimators=int(rf_params[\"param_n_estimators\"])\n",
    ")\n",
    "\n",
    "X2 = df_sw_sem[selected_features_rf]\n",
    "y2 = df_sw_sem['value']\n",
    "\n"
   ]
  },
  {
   "cell_type": "code",
   "execution_count": 8,
   "metadata": {},
   "outputs": [
    {
     "name": "stdout",
     "output_type": "stream",
     "text": [
      "SHAP values calculated and saved successfully.\n"
     ]
    }
   ],
   "source": [
    "\n",
    "import shap\n",
    "import pickle\n",
    "import pandas as pd\n",
    "import seaborn as sns\n",
    "import matplotlib.pyplot as plt\n",
    "\n",
    "\n",
    "model_sw.fit(X2, y2)\n",
    "\n",
    "try:\n",
    "    explainer_sw = shap.TreeExplainer(model_sw)\n",
    "    shap_values_sw = explainer_sw(X2)\n",
    "    \n",
    "    # 保存 SHAP 值到本地文件\n",
    "    shap_save_path_sw = path_2_preanalysis_fig + 'shap_values_sws7.pkl'\n",
    "    with open(shap_save_path_sw, 'wb') as f:\n",
    "        pickle.dump(shap_values_sw, f)\n",
    "    \n",
    "    print(\"SHAP values calculated and saved successfully.\")\n",
    "except Exception as e:\n",
    "    print(f\"Error calculating or saving SHAP values: {e}\")\n",
    "\n"
   ]
  },
  {
   "cell_type": "code",
   "execution_count": null,
   "metadata": {},
   "outputs": [],
   "source": [
    "\n",
    "import shap\n",
    "import pickle\n",
    "import pandas as pd\n",
    "import seaborn as sns\n",
    "import matplotlib.pyplot as plt\n",
    "from matplotlib.colors import LinearSegmentedColormap\n",
    "shap_save_path_sw = path_2_preanalysis_fig + 'shap_values_sws7.pkl'\n",
    "try:\n",
    "    with open(shap_save_path_sw, 'rb') as f:\n",
    "        loaded_shap_values_sw = pickle.load(f)\n",
    "    print(\"SHAP values loaded successfully.\")\n",
    "except Exception as e:\n",
    "    print(f\"Error loading SHAP values: {e}\")\n",
    "    loaded_shap_values_sw = None\n"
   ]
  },
  {
   "cell_type": "code",
   "execution_count": 10,
   "metadata": {},
   "outputs": [
    {
     "name": "stderr",
     "output_type": "stream",
     "text": [
      "The figure layout has changed to tight\n",
      "The figure layout has changed to tight\n"
     ]
    }
   ],
   "source": [
    "# top 5\n",
    "import numpy as np\n",
    "import matplotlib.colors as mcolors\n",
    "\n",
    "feature_importance = np.abs(loaded_shap_values_sw.values).mean(0)\n",
    "feature_importance_order = np.argsort(feature_importance)[::-1]\n",
    "\n",
    "top_5_features = feature_importance_order[:5]\n",
    "\n",
    "top_5_shap_values = loaded_shap_values_sw.values[:, top_5_features]\n",
    "top_5_feature_names = X2.columns[top_5_features]\n",
    "top_5_X2 = X2.iloc[:, top_5_features]\n",
    "\n",
    "# Summary plot (bar)\n",
    "shap.summary_plot(top_5_shap_values, top_5_X2, plot_type=\"bar\", show=False, color='#84aeb8', feature_names=top_5_feature_names)\n",
    "plt.title(\"SHAP Summary Bar Plot (Top 5 Features)\")\n",
    "\n",
    "# Add value labels\n",
    "ax = plt.gca()\n",
    "for p in ax.patches:\n",
    "    width = p.get_width()\n",
    "    ax.text(width, p.get_y() + p.get_height()/2, f'{width:.3f}', \n",
    "            ha='left', va='center')\n",
    "\n",
    "plt.tight_layout()\n",
    "plt.savefig(path_ng_fig + 'fig4_sws7_bar_top5.svg', bbox_inches='tight')\n",
    "plt.close()\n",
    "\n",
    "\n",
    "# Create a custom colormap from white to red\n",
    "colors = ['#FFFF00', '#FF0000']\n",
    "n_bins = 100\n",
    "cmap = LinearSegmentedColormap.from_list('custom_cmap', colors, N=n_bins)\n",
    "\n",
    "shap.summary_plot(top_5_shap_values, top_5_X2, plot_type=\"dot\", show=False, cmap=cmap, feature_names=top_5_feature_names, alpha=0.1)\n",
    "plt.title(\"SHAP Summary Dot Plot (Top 5 Features)\")\n",
    "plt.tight_layout()\n",
    "plt.savefig(path_ng_fig + 'fig_sws7_dot_top5.svg', bbox_inches='tight')\n",
    "plt.close()"
   ]
  }
 ],
 "metadata": {
  "kernelspec": {
   "display_name": "base",
   "language": "python",
   "name": "python3"
  },
  "language_info": {
   "codemirror_mode": {
    "name": "ipython",
    "version": 3
   },
   "file_extension": ".py",
   "mimetype": "text/x-python",
   "name": "python",
   "nbconvert_exporter": "python",
   "pygments_lexer": "ipython3",
   "version": "3.9.18"
  }
 },
 "nbformat": 4,
 "nbformat_minor": 2
}
