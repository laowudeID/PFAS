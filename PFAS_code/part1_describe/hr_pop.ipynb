{
 "cells": [
  {
   "cell_type": "markdown",
   "metadata": {},
   "source": [
    "Mapping of PFAS-affected populations\n",
    "\n",
    "受PFAS影响人口图的绘制"
   ]
  },
  {
   "cell_type": "code",
   "execution_count": 26,
   "metadata": {},
   "outputs": [],
   "source": [
    "import sys\n",
    "sys.path.append('..')\n",
    "import pandas as pd\n",
    "import numpy as np\n",
    "import myfunction as mf\n",
    "path_data_raw = \"C:/Users/dell/OneDrive/file/\"\n",
    "path_country_nc = \"C:/Users/dell/OneDrive/file/nc\"\n",
    "path_country_csv = \"C:/Users/dell/OneDrive/file/csv/\"\n",
    "path_one_spdb = 'C:/Users/dell/OneDrive/file/SPDB/'\n",
    "drive_letter = 'E:'\n",
    "\n",
    "path_pre = drive_letter + \"/wyy/code_project/running_outcome/final_data/SPDB/part0_treat/pretreatment/\"\n",
    "path_match = drive_letter + \"/wyy/code_project/running_outcome/final_data/SPDB/part0_treat/match/\"\n",
    "path_semdata = drive_letter + \"/wyy/code_project/running_outcome/final_data/SPDB/part0_treat/semdata/\"\n",
    "\n",
    "path_2_preanalysis_data = drive_letter + \"/wyy/code_project/running_outcome/final_data/SPDB/part2_sem/preanalysis/\"\n",
    "path_2_preanalysis_fig = drive_letter + \"/wyy/code_project/running_outcome/final_fig/SPDB/part2_sem/preanalysis/\"\n",
    "\n",
    "path_3_sw_forecast = drive_letter + \"/wyy/code_project/running_outcome/final_data/SPDB/part3_forecast/sw_forecast/\"\n",
    "path_temp = drive_letter + \"/wyy/code_project/running_outcome/final_data/SPDB/temp/\"\n",
    "\n",
    "path_1_describe_fig_fish = drive_letter + \"/wyy/code_project/running_outcome/final_fig/SPDB/part1_describe/fish_diff/\"\n",
    "path_1_describe_global_map = drive_letter + \"/wyy/code_project/running_outcome/final_fig/SPDB/part1_describe/global_map/\"\n",
    "\n",
    "path_ng_fig = drive_letter + \"/wyy/code_project/running_outcome/final_fig/ng_fig/\"\n",
    "\n",
    "mark_num = \"25\"\n",
    "meta_name = \"meta_data.csv\"\n",
    "\n",
    "list_pfas =['PFOA', 'PFNA', 'PFDA', 'PFUnDA','PFDoDA','PFTrDA', 'PFTeDA', 'PFHxS', 'PFOS', 'FOSA', 'PFBA', 'PFPeA', 'PFHxA', 'PFHpA','PFBS']\n",
    "list_pfas_lc = ['PFOA', 'PFNA', 'PFDA', 'PFUnDA','PFDoDA','PFTrDA', 'PFTeDA', 'PFHxS', 'PFOS', 'FOSA']\n",
    "list_pfas_sc = ['PFBA', 'PFPeA', 'PFHxA', 'PFHpA','PFBS']\n",
    "list_color = [\"#4d8cbf\", \"#4f9c8b\", \"#555c6c\", \"#d77563\", \"#7d84a8\", \"#84aeb8\", \"#c3473b\", \"#89756d\",\"#ffb3cc\",\"#9a7ebf\",\"#ffddb8\", \"#c4eaff\", \"#d1c6ff\", \"#c2ffbf\", \"#f5f5b0\"]\n",
    "\n",
    "\n",
    "dic_color = dict(zip(list_pfas,list_color))"
   ]
  },
  {
   "cell_type": "code",
   "execution_count": 35,
   "metadata": {},
   "outputs": [],
   "source": [
    "import pandas as pd\n",
    "# Processing data\n",
    "# 处理数据\n",
    "def get_thq_nc_data(file_path, output_path, str_colname):\n",
    "    df = pd.read_csv(file_path)\n",
    "    df = df[['lon', 'lat', 'year', str_colname]]\n",
    "    df = df[(df['year'] >= 2000) & (df['year'] <= 2020)]\n",
    "    pivot_df = df.pivot_table(index=['lon', 'lat'], columns='year', values=str_colname)\n",
    "    pivot_df.reset_index(inplace=True)\n",
    "    pivot_df.columns.name = None\n",
    "    years = list(map(int, range(2000, 2020 + 1)))\n",
    "    if 'thq' in str_colname:\n",
    "        pivot_df['potentially'] = pivot_df[years].apply(lambda row: (row >= 1).sum() / 21 if (row >= 1).sum() > 0 else 0, axis=1)\n",
    "        pivot_df['sum'] = pivot_df[years].apply(lambda row: (row >= 1).sum(), axis=1)\n",
    "        pivot_df['avgthq'] = pivot_df[years].mean(axis=1)\n",
    "    elif 'pop' in str_colname:\n",
    "        pivot_df['avgpop'] = pivot_df[years].mean(axis=1)\n",
    "    pivot_df.to_csv(output_path, index=False)\n",
    "    print(\"Data save to:\", output_path)\n",
    "    return 'okk'"
   ]
  },
  {
   "cell_type": "code",
   "execution_count": 37,
   "metadata": {},
   "outputs": [
    {
     "name": "stdout",
     "output_type": "stream",
     "text": [
      "数据已成功转换并保存到: E:\\wyy\\code_project\\running_outcome\\final_data\\SPDB\\part4_assess\\nc\\thq_fig_data.csv\n",
      "数据已成功转换并保存到: E:\\wyy\\code_project\\running_outcome\\final_data\\SPDB\\part4_assess\\nc\\sw_thq_fig_data.csv\n",
      "数据已成功转换并保存到: E:\\wyy\\code_project\\running_outcome\\final_data\\SPDB\\part4_assess\\nc\\lr_thq_fig_data.csv\n"
     ]
    },
    {
     "data": {
      "text/plain": [
       "'okk'"
      ]
     },
     "execution_count": 37,
     "metadata": {},
     "output_type": "execute_result"
    }
   ],
   "source": [
    "file_path = r'E:\\wyy\\code_project\\running_outcome\\final_data\\SPDB\\part4_assess\\thq\\merge_thq_statistics.csv'\n",
    "output_path = r'E:\\wyy\\code_project\\running_outcome\\final_data\\SPDB\\part4_assess\\nc\\thq_fig_data.csv'\n",
    "\n",
    "file_path1 = r'E:\\wyy\\code_project\\running_outcome\\final_data\\SPDB\\part4_assess\\thq\\sw_thq_statistics.csv'\n",
    "output_path1 = r'E:\\wyy\\code_project\\running_outcome\\final_data\\SPDB\\part4_assess\\nc\\sw_thq_fig_data.csv'\n",
    "\n",
    "file_path2 = r'E:\\wyy\\code_project\\running_outcome\\final_data\\SPDB\\part4_assess\\thq\\lr_thq_statistics.csv'\n",
    "output_path2 = r'E:\\wyy\\code_project\\running_outcome\\final_data\\SPDB\\part4_assess\\nc\\lr_thq_fig_data.csv'\n",
    "\n",
    "get_thq_nc_data(file_path, output_path, 'thq__50%')\n",
    "get_thq_nc_data(file_path1, output_path1, 'thq_water_50%')\n",
    "get_thq_nc_data(file_path2, output_path2, 'thq_fish_50%')"
   ]
  },
  {
   "cell_type": "code",
   "execution_count": 31,
   "metadata": {},
   "outputs": [
    {
     "name": "stdout",
     "output_type": "stream",
     "text": [
      "数据已成功转换并保存到: E:\\wyy\\code_project\\running_outcome\\final_data\\SPDB\\part4_assess\\nc\\pop_fig_data.csv\n",
      "数据已成功转换并保存到: E:\\wyy\\code_project\\running_outcome\\final_data\\SPDB\\part4_assess\\nc\\sw_pop_fig_data.csv\n",
      "数据已成功转换并保存到: E:\\wyy\\code_project\\running_outcome\\final_data\\SPDB\\part4_assess\\nc\\lr_pop_fig_data.csv\n"
     ]
    },
    {
     "data": {
      "text/plain": [
       "'okk'"
      ]
     },
     "execution_count": 31,
     "metadata": {},
     "output_type": "execute_result"
    }
   ],
   "source": [
    "file_path3 = r'E:\\wyy\\code_project\\running_outcome\\final_data\\SPDB\\part4_assess\\thq\\combined_pop_statistics.csv'\n",
    "output_path3 = r'E:\\wyy\\code_project\\running_outcome\\final_data\\SPDB\\part4_assess\\nc\\pop_fig_data.csv'\n",
    "\n",
    "file_path4 = r'E:\\wyy\\code_project\\running_outcome\\final_data\\SPDB\\part4_assess\\thq\\sw_pop_statistics.csv'\n",
    "output_path4 = r'E:\\wyy\\code_project\\running_outcome\\final_data\\SPDB\\part4_assess\\nc\\sw_pop_fig_data.csv'\n",
    "\n",
    "file_path5 = r'E:\\wyy\\code_project\\running_outcome\\final_data\\SPDB\\part4_assess\\thq\\lr_pop_statistics_d.csv'\n",
    "output_path5 = r'E:\\wyy\\code_project\\running_outcome\\final_data\\SPDB\\part4_assess\\nc\\lr_pop_fig_data.csv'\n",
    "\n",
    "get_thq_nc_data(file_path3, output_path3, 'imp_pop_50%')\n",
    "get_thq_nc_data(file_path4, output_path4, 'imp_pop_50%')\n",
    "get_thq_nc_data(file_path5, output_path5, 'imp_pop_50%')"
   ]
  },
  {
   "cell_type": "code",
   "execution_count": 38,
   "metadata": {},
   "outputs": [],
   "source": [
    "# def\n",
    "import os\n",
    "import pandas as pd\n",
    "from netCDF4 import Dataset\n",
    "import numpy as np\n",
    "\n",
    "def change_to_nc(path_final, path_data, data_type, str_colname='value'):\n",
    "    \"\"\"\n",
    "    Data conversion to nc format files\n",
    "    ---\n",
    "    数据转换为nc格式文件\n",
    "    \"\"\"\n",
    "    name_new_file = f'{data_type}_{str_colname}.nc'\n",
    "    df = pd.read_csv(path_data + data_type + '.csv')\n",
    "    df = df[['lon', 'lat', str_colname]]\n",
    "    nc_file = Dataset(path_final + name_new_file, 'w', format='NETCDF4')\n",
    "\n",
    "    lon = np.arange(-180, 180, 1)\n",
    "    lat = np.arange(-90, 90, 1)\n",
    "    nc_file.createDimension('lon', len(lon))\n",
    "    nc_file.createDimension('lat', len(lat))\n",
    "    lon_var = nc_file.createVariable('lon', 'f4', 'lon')\n",
    "    lat_var = nc_file.createVariable('lat', 'f4', 'lat')\n",
    "    lon_var[:] = lon\n",
    "    lat_var[:] = lat\n",
    "    value_var = nc_file.createVariable(str_colname, 'f4', ('lat', 'lon'))\n",
    "    value_data = np.full((len(lat), len(lon)), np.nan)\n",
    "    for index, row in df.iterrows():\n",
    "        if row['lon'] != -180 and row['lon'] != 180 and row['lat'] != -90 and row['lat'] != 90:\n",
    "            value_data[int(row['lat'] + 90), int(row['lon'] + 180)] = row[str_colname]\n",
    "    value_var[:, :] = value_data\n",
    "    nc_file.close()\n",
    "    return print('over')"
   ]
  },
  {
   "cell_type": "code",
   "execution_count": 39,
   "metadata": {},
   "outputs": [
    {
     "name": "stdout",
     "output_type": "stream",
     "text": [
      "over\n",
      "over\n",
      "over\n"
     ]
    }
   ],
   "source": [
    "path_final = 'E:/wyy/code_project/running_outcome/final_data/SPDB/part4_assess/nc/'\n",
    "path_data = 'E:/wyy/code_project/running_outcome/final_data/SPDB/part4_assess/nc/'\n",
    "list_data_type = ['thq_fig_data', 'lr_thq_fig_data', 'sw_thq_fig_data']\n",
    "list_value_type = ['avgthq']\n",
    "\n",
    "for value_type in list_value_type:\n",
    "    for data_type in list_data_type:\n",
    "        change_to_nc(path_final, path_data, data_type, value_type)\n"
   ]
  },
  {
   "cell_type": "code",
   "execution_count": 34,
   "metadata": {},
   "outputs": [
    {
     "name": "stdout",
     "output_type": "stream",
     "text": [
      "over\n",
      "over\n",
      "over\n"
     ]
    }
   ],
   "source": [
    "path_final = 'E:/wyy/code_project/running_outcome/final_data/SPDB/part4_assess/nc/'\n",
    "path_data = 'E:/wyy/code_project/running_outcome/final_data/SPDB/part4_assess/nc/'\n",
    "list_data_type = ['pop_fig_data', 'lr_pop_fig_data', 'sw_pop_fig_data']\n",
    "for data_type in list_data_type:\n",
    "    change_to_nc(path_final, path_data, data_type, 'avgpop')\n"
   ]
  },
  {
   "cell_type": "code",
   "execution_count": 40,
   "metadata": {},
   "outputs": [],
   "source": [
    "df_pop = pd.read_csv('E:/wyy/code_project/running_outcome/final_data/SPDB/part4_assess/thq/combined_imp_pop.csv')\n",
    "\n",
    "df_pop_head = df_pop.head().to_csv('E:/wyy/code_project/running_outcome/final_data/SPDB/part4_assess/thq/combined_imp_pop_head.csv', index=False)"
   ]
  },
  {
   "cell_type": "code",
   "execution_count": 45,
   "metadata": {},
   "outputs": [
    {
     "name": "stdout",
     "output_type": "stream",
     "text": [
      "处理完成，结果已保存。\n"
     ]
    }
   ],
   "source": [
    "import pandas as pd\n",
    "import numpy as np\n",
    "# Processing data\n",
    "# 处理数据\n",
    "df_pop = pd.read_csv('E:/wyy/code_project/running_outcome/final_data/SPDB/part4_assess/thq/combined_imp_pop.csv')\n",
    "df_grid = pd.read_csv('E:/wyy/code_project/running_outcome/final_data/SPDB/part4_assess/grid/new_grid_year.csv')\n",
    "df_country = pd.read_csv('E:/wyy/code_project/running_outcome/final_data/SPDB/part4_assess/hi/country.csv')\n",
    "\n",
    "df_merged = pd.merge(df_pop, df_grid[['lon', 'lat', 'year', 'country_id']], on=['lon', 'lat', 'year'], how='left')\n",
    "df_merged = pd.merge(df_merged, df_country[['country_id', 'region']], on='country_id', how='left')\n",
    "\n",
    "imp_pop_columns = [col for col in df_merged.columns if col.startswith('imp_pop_')]\n",
    "\n",
    "df_global_list = []\n",
    "for i, col in enumerate(imp_pop_columns):\n",
    "    temp_df = df_merged.groupby('year')[col].sum().reset_index()\n",
    "    temp_df['group'] = i\n",
    "    temp_df.columns = ['year', 'sum_pop', 'group']\n",
    "    df_global_list.append(temp_df)\n",
    "\n",
    "df_global = pd.concat(df_global_list, ignore_index=True)\n",
    "\n",
    "df_region_list = []\n",
    "for i, col in enumerate(imp_pop_columns):\n",
    "    temp_df = df_merged.groupby(['region', 'year'])[col].sum().reset_index()\n",
    "    temp_df = temp_df.groupby('region')[col].agg(['mean', 'median']).reset_index()\n",
    "    temp_df['group'] = i\n",
    "    temp_df.columns = ['region', 'avg_pop', 'median_pop', 'group']\n",
    "    df_region_list.append(temp_df)\n",
    "\n",
    "df_region = pd.concat(df_region_list, ignore_index=True)\n",
    "\n",
    "output_path = 'E:/wyy/code_project/running_outcome/final_data/SPDB/part4_assess/thq/'\n",
    "df_global.to_csv(output_path + 'global_impact_population.csv', index=False)\n",
    "df_region.to_csv(output_path + 'region_impact_population.csv', index=False)\n"
   ]
  },
  {
   "cell_type": "code",
   "execution_count": 1,
   "metadata": {},
   "outputs": [
    {
     "data": {
      "image/png": "[encoded data removed]",
      "text/plain": [
       "<Figure size 708.661x393.701 with 1 Axes>"
      ]
     },
     "metadata": {},
     "output_type": "display_data"
    }
   ],
   "source": [
    "import pandas as pd\n",
    "import matplotlib.pyplot as plt\n",
    "import seaborn as sns\n",
    "# Plotting bar charts\n",
    "# 绘制柱状图\n",
    "df_region = pd.read_csv('E:/wyy/code_project/running_outcome/final_data/SPDB/part4_assess/thq/region_impact_population.csv')\n",
    "\n",
    "sns.set_palette(\"deep\")\n",
    "\n",
    "plt.figure(figsize=(180/25.4, 100/25.4)) \n",
    "custom_params = {\"axes.spines.right\": False, \"axes.spines.top\": False}\n",
    "sns.set_theme(style=\"ticks\", rc=custom_params)\n",
    "\n",
    "region_stats = df_region.groupby('region').agg({'avg_pop': ['mean', 'min', 'max']})\n",
    "region_stats.columns = ['mean', 'min', 'max']\n",
    "region_stats = region_stats.sort_values('mean', ascending=True)\n",
    "\n",
    "region_stats['error_lower'] = region_stats['mean'] - region_stats['min']\n",
    "region_stats['error_upper'] = region_stats['max'] - region_stats['mean']\n",
    "\n",
    "bars = plt.barh(region_stats.index, region_stats['mean'], \n",
    "                xerr=[region_stats['error_lower'], region_stats['error_upper']], \n",
    "                capsize=5)\n",
    "\n",
    "plt.title('Average Impact Population by Region', fontsize=16)\n",
    "plt.ylabel('Region', fontsize=12)\n",
    "plt.xlabel('Average Impact Population', fontsize=12)\n",
    "plt.tight_layout()\n",
    "plt.xscale('log')\n",
    "\n",
    "plt.savefig('E:/wyy/code_project/running_outcome/final_data/SPDB/part4_assess/thq/region_impact_population_chart2.svg', dpi=300)\n",
    "plt.show()\n",
    "plt.close()"
   ]
  },
  {
   "cell_type": "code",
   "execution_count": 63,
   "metadata": {},
   "outputs": [
    {
     "data": {
      "image/png": "[encoded data removed]",
      "text/plain": [
       "<Figure size 600x400 with 1 Axes>"
      ]
     },
     "metadata": {},
     "output_type": "display_data"
    },
    {
     "name": "stdout",
     "output_type": "stream",
     "text": [
      "图表已生成并保存。\n"
     ]
    }
   ],
   "source": [
    "from matplotlib.ticker import FuncFormatter\n",
    "# Plotting line graphs\n",
    "# 绘制折线图\n",
    "df_global = pd.read_csv('E:/wyy/code_project/running_outcome/final_data/SPDB/part4_assess/thq/global_impact_population.csv')\n",
    "plt.figure(figsize=(6, 4))\n",
    "global_stats = df_global.groupby('year').agg({'sum_pop': ['mean', 'std']})\n",
    "global_stats.columns = ['mean', 'std']\n",
    "ax = plt.errorbar(global_stats.index, global_stats['mean'], yerr=global_stats['std'], fmt='-o', capsize=5)\n",
    "\n",
    "plt.title('Global Impact Population by Year', fontsize=16)\n",
    "plt.xlabel('Year', fontsize=12)\n",
    "plt.ylabel('Impact Population', fontsize=12)\n",
    "plt.ticklabel_format(style='plain', axis='y') \n",
    "plt.yscale('log')\n",
    "plt.tight_layout()\n",
    "plt.xticks(fontsize=12, rotation=90)\n",
    "\n",
    "plt.gca().xaxis.set_major_formatter(FuncFormatter(lambda x, _: f'{int(x)}'))\n",
    "plt.savefig('E:/wyy/code_project/running_outcome/final_data/SPDB/part4_assess/thq/global_impact_population_chart.svg', dpi=300)\n",
    "plt.show()\n",
    "plt.close()"
   ]
  },
  {
   "cell_type": "code",
   "execution_count": 64,
   "metadata": {},
   "outputs": [
    {
     "name": "stdout",
     "output_type": "stream",
     "text": [
      "全球影响人口的平均数: 1130342132.4589353\n",
      "全球影响人口的中位数: 917133514.1056048\n",
      "全球影响人口的95%置信区间: (1121649013.9470186, 1139035250.970852)\n"
     ]
    }
   ],
   "source": [
    "import pandas as pd\n",
    "import numpy as np\n",
    "from scipy import stats\n",
    "\n",
    "# 95 per cent confidence interval\n",
    "# 置信区间\n",
    "df_global = pd.read_csv('E:/wyy/code_project/running_outcome/final_data/SPDB/part4_assess/thq/global_impact_population.csv')\n",
    "\n",
    "average_population = df_global['sum_pop'].mean()\n",
    "median_population = df_global['sum_pop'].median()\n",
    "confidence_interval = stats.norm.interval(0.95, loc=average_population, scale=stats.sem(df_global['sum_pop']))\n",
    "print(f\"MEAN: {average_population}\")\n",
    "print(f\"MEDIAN: {median_population}\")\n",
    "print(f\"95 per cent confidence interval: {confidence_interval}\")"
   ]
  }
 ],
 "metadata": {
  "kernelspec": {
   "display_name": "base",
   "language": "python",
   "name": "python3"
  },
  "language_info": {
   "codemirror_mode": {
    "name": "ipython",
    "version": 3
   },
   "file_extension": ".py",
   "mimetype": "text/x-python",
   "name": "python",
   "nbconvert_exporter": "python",
   "pygments_lexer": "ipython3",
   "version": "3.9.18"
  }
 },
 "nbformat": 4,
 "nbformat_minor": 2
}
